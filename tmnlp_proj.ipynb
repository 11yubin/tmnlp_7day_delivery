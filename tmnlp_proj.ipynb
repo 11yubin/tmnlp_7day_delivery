{
  "nbformat": 4,
  "nbformat_minor": 0,
  "metadata": {
    "colab": {
      "provenance": [],
      "mount_file_id": "1d3WirXfzT5AAO4YuV67nJitnV2BUtGnT",
      "authorship_tag": "ABX9TyO+eoHIkQLQLvAqG2KAfg8P"
    },
    "kernelspec": {
      "name": "python3",
      "display_name": "Python 3"
    },
    "language_info": {
      "name": "python"
    }
  },
  "cells": [
    {
      "cell_type": "code",
      "execution_count": 1,
      "metadata": {
        "colab": {
          "base_uri": "https://localhost:8080/"
        },
        "id": "jrfVG57PZIWJ",
        "outputId": "aa06d520-d9dd-4f90-be7e-c29e7a62e1e7"
      },
      "outputs": [
        {
          "output_type": "stream",
          "name": "stdout",
          "text": [
            "Drive already mounted at /content/drive; to attempt to forcibly remount, call drive.mount(\"/content/drive\", force_remount=True).\n"
          ]
        }
      ],
      "source": [
        "from google.colab import drive\n",
        "drive.mount('/content/drive')"
      ]
    },
    {
      "cell_type": "code",
      "source": [],
      "metadata": {
        "id": "w6AS5-8xZaAM"
      },
      "execution_count": null,
      "outputs": []
    }
  ]
}